{
 "cells": [
  {
   "cell_type": "markdown",
   "metadata": {},
   "source": [
    "# An Introduction To Python"
   ]
  },
  {
   "cell_type": "markdown",
   "metadata": {},
   "source": [
    "## Learning objectives\n",
    "\n",
    "- You’ll learn about the origins of Python, and how it can help you solve complex problems quickly.\n",
    "- Learn about the different data types Python has to offer, including tips on when and how to use each one.\n",
    "- Understand the control flow of Python programs - loops, boolean statements, if statements, and return statements.\n",
    "- Make your code more concise by writing reusable functions\n",
    "- Learn to use Python packages from the standard library, as well as how to find and install external libraries.\n",
    "- Learn how to work with files on your filesystem by reading and writing to them.\n",
    "- Write programs that interact with APIs by sending requests and receiving responses.\n",
    "\n",
    "## Table of Contents\n",
    "\n",
    "- Why Choose Python\n",
    "- Basic Data Types\n",
    "- Functions\n",
    "- Advanced Container Types\n",
    "- Boolean Logic\n",
    "- Loops and Control Statements\n",
    "- Working With Python Programs\n"
   ]
  },
  {
   "cell_type": "markdown",
   "metadata": {},
   "source": [
    "## Why Choose Python"
   ]
  },
  {
   "cell_type": "markdown",
   "metadata": {},
   "source": [
    "- open source\n",
    "- has a wide variety of applications\n",
    "  - AI/ML\n",
    "    - SciPi\n",
    "    - NumPy\n",
    "    - Pandas\n",
    "    - PyTorch\n",
    "  - Hardware & Micro-controllers\n",
    "    - Raspberry Pi\n",
    "    - MicroPython\n",
    "    - CircuitPython\n",
    "  - Web Development\n",
    "    - Django\n",
    "    - Flask\n",
    "  - Scripting\n",
    "    - Dev Ops Configuration scripts\n",
    "\n",
    "- conventions\n",
    "  - [PEP8](https://pep8.org/) is a Python coding standard"
   ]
  },
  {
   "cell_type": "markdown",
   "metadata": {},
   "source": [
    "### Python Tour"
   ]
  },
  {
   "cell_type": "code",
   "execution_count": 3,
   "metadata": {},
   "outputs": [
    {
     "name": "stdout",
     "output_type": "stream",
     "text": [
      "-> freeCodeCamp is a JavaScript repo with 306342 stars.\n",
      "-> vue is a JavaScript repo with 152528 stars.\n",
      "-> react is a JavaScript repo with 139719 stars.\n",
      "-> bootstrap is a JavaScript repo with 136955 stars.\n",
      "-> javascript is a JavaScript repo with 90604 stars.\n",
      "-> d3 is a JavaScript repo with 88649 stars.\n",
      "-> react-native is a JavaScript repo with 82755 stars.\n",
      "-> system-design-primer is a Python repo with 76762 stars.\n",
      "-> awesome-python is a Python repo with 75685 stars.\n",
      "-> create-react-app is a JavaScript repo with 73567 stars.\n",
      "-> axios is a JavaScript repo with 66743 stars.\n",
      "-> node is a JavaScript repo with 65850 stars.\n",
      "-> public-apis is a Python repo with 65220 stars.\n",
      "-> Python is a Python repo with 61681 stars.\n",
      "-> Font-Awesome is a JavaScript repo with 61439 stars.\n",
      "-> angular.js is a JavaScript repo with 59615 stars.\n",
      "-> models is a Python repo with 59531 stars.\n",
      "-> youtube-dl is a Python repo with 58015 stars.\n",
      "-> three.js is a JavaScript repo with 56525 stars.\n",
      "-> javascript-algorithms is a JavaScript repo with 56355 stars.\n",
      "-> puppeteer is a JavaScript repo with 56028 stars.\n",
      "-> jquery is a JavaScript repo with 52553 stars.\n",
      "-> material-ui is a JavaScript repo with 52327 stars.\n",
      "-> 30-seconds-of-code is a JavaScript repo with 52173 stars.\n",
      "-> webpack is a JavaScript repo with 51907 stars.\n",
      "-> atom is a JavaScript repo with 50449 stars.\n",
      "-> thefuck is a Python repo with 50412 stars.\n"
     ]
    }
   ],
   "source": [
    "\"\"\"\n",
    "A small Python program that uses the GitHub search API to list\n",
    "the top projects by language, based on stars.\n",
    "\"\"\"\n",
    "\n",
    "import requests\n",
    "\n",
    "GITHUB_API_URL = \"https://api.github.com/search/repositories\"\n",
    "\n",
    "\n",
    "def create_query(languages, min_stars=50000):\n",
    "    query = f\"stars:>{min_stars} \"\n",
    "\n",
    "    for language in languages:\n",
    "        query += f\"language:{language} \"\n",
    "\n",
    "    # a sample query looks like: \"stars:>50 language:python language:javascript\"\n",
    "    return query\n",
    "\n",
    "\n",
    "def repos_with_most_stars(languages, sort=\"stars\", order=\"desc\"):\n",
    "    query = create_query(languages)\n",
    "    params = {\"q\": query, \"sort\": sort, \"order\": order}\n",
    "\n",
    "    response = requests.get(GITHUB_API_URL, params=params)\n",
    "    status_code = response.status_code\n",
    "\n",
    "    if status_code != 200:\n",
    "        raise RuntimeError(f\"An error occurred. HTTP Code: {status_code}.\")\n",
    "    else:\n",
    "        response_json = response.json()\n",
    "        return response_json[\"items\"]\n",
    "\n",
    "\n",
    "if __name__ == \"__main__\":\n",
    "    languages = [\"python\", \"javascript\", \"ruby\"]\n",
    "    results = repos_with_most_stars(languages)\n",
    "\n",
    "    for result in results:\n",
    "        language = result[\"language\"]\n",
    "        stars = result[\"stargazers_count\"]\n",
    "        name = result[\"name\"]\n",
    "\n",
    "        print(f\"-> {name} is a {language} repo with {stars} stars.\")"
   ]
  },
  {
   "cell_type": "markdown",
   "metadata": {},
   "source": [
    "## Basic Data Types"
   ]
  },
  {
   "cell_type": "markdown",
   "metadata": {},
   "source": [
    "Naming Variables\n",
    "- Convention says that variables should be named in lower case, with whole words separated by underscores.\n",
    "- If you’re storing a collection of items, name your variable as a plural.\n",
    "- Learn more about great naming practices for dynamic types by watching this [30-minute talk by Brandon Rhodes](https://www.youtube.com/watch?v=YklKUuDpX5c)."
   ]
  },
  {
   "cell_type": "code",
   "execution_count": 5,
   "metadata": {},
   "outputs": [],
   "source": [
    "variable_name_in_lower_case = \"naming convention\"\n",
    "numbers = [1, 2, 3]"
   ]
  },
  {
   "cell_type": "markdown",
   "metadata": {},
   "source": [
    "Types"
   ]
  },
  {
   "cell_type": "code",
   "execution_count": 6,
   "metadata": {},
   "outputs": [
    {
     "data": {
      "text/plain": [
       "int"
      ]
     },
     "execution_count": 6,
     "metadata": {},
     "output_type": "execute_result"
    }
   ],
   "source": [
    "num = 32\n",
    "type(num)"
   ]
  },
  {
   "cell_type": "code",
   "execution_count": 7,
   "metadata": {},
   "outputs": [
    {
     "data": {
      "text/plain": [
       "NoneType"
      ]
     },
     "execution_count": 7,
     "metadata": {},
     "output_type": "execute_result"
    }
   ],
   "source": [
    "x = None\n",
    "type(x)"
   ]
  },
  {
   "cell_type": "markdown",
   "metadata": {},
   "source": [
    "Numbers"
   ]
  },
  {
   "cell_type": "code",
   "execution_count": 14,
   "metadata": {},
   "outputs": [
    {
     "data": {
      "text/plain": [
       "int"
      ]
     },
     "execution_count": 14,
     "metadata": {},
     "output_type": "execute_result"
    }
   ],
   "source": [
    "# integers\n",
    "x = 4\n",
    "y = 0\n",
    "z = -123\n",
    "type(z)"
   ]
  },
  {
   "cell_type": "code",
   "execution_count": 12,
   "metadata": {},
   "outputs": [
    {
     "data": {
      "text/plain": [
       "float"
      ]
     },
     "execution_count": 12,
     "metadata": {},
     "output_type": "execute_result"
    }
   ],
   "source": [
    "# floats\n",
    "z = 0.\n",
    "y = -3.4\n",
    "z = 5.0\n",
    "type(z)"
   ]
  },
  {
   "cell_type": "code",
   "execution_count": 18,
   "metadata": {},
   "outputs": [
    {
     "data": {
      "text/plain": [
       "complex"
      ]
     },
     "execution_count": 18,
     "metadata": {},
     "output_type": "execute_result"
    }
   ],
   "source": [
    "# complex\n",
    "x = 42j\n",
    "type(x)"
   ]
  },
  {
   "cell_type": "markdown",
   "metadata": {},
   "source": [
    "In Python, Integers and other simple data types are just objects under the hood. That means that you can create new ones by calling methods. You can provide either a number, or a string.\n",
    "\n",
    "Python also provides a decimal library, which has certain benefits over the float datatype. For more information, refer to the [Python documentation](https://docs.python.org/3/library/decimal.html)."
   ]
  },
  {
   "cell_type": "code",
   "execution_count": 23,
   "metadata": {},
   "outputs": [
    {
     "data": {
      "text/plain": [
       "int"
      ]
     },
     "execution_count": 23,
     "metadata": {},
     "output_type": "execute_result"
    }
   ],
   "source": [
    "x = int(4)\n",
    "y = int('4')\n",
    "type(y)"
   ]
  },
  {
   "cell_type": "markdown",
   "metadata": {},
   "source": [
    "Mathematical Operations"
   ]
  },
  {
   "cell_type": "code",
   "execution_count": 24,
   "metadata": {},
   "outputs": [
    {
     "data": {
      "text/plain": [
       "7.5"
      ]
     },
     "execution_count": 24,
     "metadata": {},
     "output_type": "execute_result"
    }
   ],
   "source": [
    "2.5 + 5"
   ]
  },
  {
   "cell_type": "code",
   "execution_count": 25,
   "metadata": {},
   "outputs": [
    {
     "data": {
      "text/plain": [
       "2.5"
      ]
     },
     "execution_count": 25,
     "metadata": {},
     "output_type": "execute_result"
    }
   ],
   "source": [
    "5 / 2"
   ]
  },
  {
   "cell_type": "code",
   "execution_count": 26,
   "metadata": {},
   "outputs": [
    {
     "data": {
      "text/plain": [
       "2"
      ]
     },
     "execution_count": 26,
     "metadata": {},
     "output_type": "execute_result"
    }
   ],
   "source": [
    "5 // 2"
   ]
  },
  {
   "cell_type": "code",
   "execution_count": 27,
   "metadata": {},
   "outputs": [
    {
     "data": {
      "text/plain": [
       "1"
      ]
     },
     "execution_count": 27,
     "metadata": {},
     "output_type": "execute_result"
    }
   ],
   "source": [
    "5 % 2"
   ]
  },
  {
   "cell_type": "markdown",
   "metadata": {},
   "source": [
    "Boolean Types"
   ]
  },
  {
   "cell_type": "code",
   "execution_count": 28,
   "metadata": {},
   "outputs": [
    {
     "data": {
      "text/plain": [
       "False"
      ]
     },
     "execution_count": 28,
     "metadata": {},
     "output_type": "execute_result"
    }
   ],
   "source": [
    "x = True\n",
    "y = False\n",
    "x == y"
   ]
  },
  {
   "cell_type": "code",
   "execution_count": 29,
   "metadata": {},
   "outputs": [
    {
     "data": {
      "text/plain": [
       "True"
      ]
     },
     "execution_count": 29,
     "metadata": {},
     "output_type": "execute_result"
    }
   ],
   "source": [
    "x = True\n",
    "y = 1\n",
    "x == y"
   ]
  },
  {
   "cell_type": "code",
   "execution_count": 31,
   "metadata": {},
   "outputs": [
    {
     "data": {
      "text/plain": [
       "True"
      ]
     },
     "execution_count": 31,
     "metadata": {},
     "output_type": "execute_result"
    }
   ],
   "source": [
    "x = False\n",
    "y = 0\n",
    "x == y"
   ]
  },
  {
   "cell_type": "markdown",
   "metadata": {},
   "source": [
    "Strings\n",
    "- Strings in Python can be enclosed either with single quotes like 'hello' or double quotes, like \"hello\"."
   ]
  },
  {
   "cell_type": "code",
   "execution_count": 33,
   "metadata": {},
   "outputs": [
    {
     "name": "stdout",
     "output_type": "stream",
     "text": [
      "Hello Nina\n"
     ]
    }
   ],
   "source": [
    "salutation = \"Hello \"\n",
    "name = \"Nina\"\n",
    "greeting = salutation + name\n",
    "print(greeting)"
   ]
  },
  {
   "cell_type": "markdown",
   "metadata": {},
   "source": [
    "Long multi-line strings can be represented in between \"\"\" (triple quotes), but the whitespace will be part of the string."
   ]
  },
  {
   "cell_type": "code",
   "execution_count": 39,
   "metadata": {},
   "outputs": [
    {
     "name": "stdout",
     "output_type": "stream",
     "text": [
      "\n",
      "                Greetings and salutations, dear Nina.\n",
      "                I'm superfluous with my words,\n",
      "                and require more space to say Hello!\"\n",
      "                \n"
     ]
    }
   ],
   "source": [
    "long_greeting = \"\"\"\n",
    "                Greetings and salutations, dear Nina.\n",
    "                I'm superfluous with my words,\n",
    "                and require more space to say Hello!\"\n",
    "                \"\"\"\n",
    "print(long_greeting)"
   ]
  },
  {
   "cell_type": "markdown",
   "metadata": {},
   "source": [
    "String Formatting"
   ]
  },
  {
   "cell_type": "code",
   "execution_count": 37,
   "metadata": {},
   "outputs": [
    {
     "name": "stdout",
     "output_type": "stream",
     "text": [
      "Hello, Nina\n"
     ]
    }
   ],
   "source": [
    "name = \"Nina\"\n",
    "greeting = f\"Hello, {name}\" # f-strings, after Python 3.7\n",
    "\n",
    "print(greeting)"
   ]
  },
  {
   "cell_type": "markdown",
   "metadata": {},
   "source": [
    "## Functions"
   ]
  },
  {
   "cell_type": "code",
   "execution_count": 40,
   "metadata": {},
   "outputs": [
    {
     "name": "stdout",
     "output_type": "stream",
     "text": [
      "Hello, World!\n"
     ]
    },
    {
     "data": {
      "text/plain": [
       "NoneType"
      ]
     },
     "execution_count": 40,
     "metadata": {},
     "output_type": "execute_result"
    }
   ],
   "source": [
    "def hello_world():\n",
    "  print(\"Hello, World!\")\n",
    "  \n",
    "x = hello_world()\n",
    "type(x)"
   ]
  },
  {
   "cell_type": "code",
   "execution_count": 41,
   "metadata": {},
   "outputs": [
    {
     "name": "stdout",
     "output_type": "stream",
     "text": [
      "Hello, World2!\n"
     ]
    },
    {
     "data": {
      "text/plain": [
       "NoneType"
      ]
     },
     "execution_count": 41,
     "metadata": {},
     "output_type": "execute_result"
    }
   ],
   "source": [
    "def hello_world2():\n",
    "  print(\"Hello, World2!\")\n",
    "  return\n",
    "\n",
    "x = hello_world2()\n",
    "type(x)"
   ]
  },
  {
   "cell_type": "code",
   "execution_count": 42,
   "metadata": {},
   "outputs": [
    {
     "name": "stdout",
     "output_type": "stream",
     "text": [
      "8\n"
     ]
    },
    {
     "data": {
      "text/plain": [
       "int"
      ]
     },
     "execution_count": 42,
     "metadata": {},
     "output_type": "execute_result"
    }
   ],
   "source": [
    "def add_numbers(x, y):\n",
    "  return x + y\n",
    "\n",
    "x = add_numbers(3, 5)\n",
    "print(x)\n",
    "type(x)"
   ]
  },
  {
   "cell_type": "markdown",
   "metadata": {},
   "source": [
    "All of the required arguments go first. They are then followed by the optional keyword arguments."
   ]
  },
  {
   "cell_type": "code",
   "execution_count": 43,
   "metadata": {},
   "outputs": [
    {
     "name": "stdout",
     "output_type": "stream",
     "text": [
      "Hello, Nina!\n",
      "Good Day, Nina!\n"
     ]
    }
   ],
   "source": [
    "def say_greeting_with_default(name, greeting=\"Hello\", punctuation=\"!\"):\n",
    "  print(f\"{greeting}, {name}{punctuation}\")\n",
    "  \n",
    "say_greeting_with_default(\"Nina\")\n",
    "say_greeting_with_default(\"Nina\", \"Good Day\")"
   ]
  },
  {
   "cell_type": "code",
   "execution_count": 46,
   "metadata": {},
   "outputs": [
    {
     "name": "stdout",
     "output_type": "stream",
     "text": [
      "Good Day, Jimmy!\n"
     ]
    }
   ],
   "source": [
    "say_greeting_with_default(greeting=\"Good Day\", name=\"Jimmy\")"
   ]
  },
  {
   "cell_type": "markdown",
   "metadata": {},
   "source": [
    "**Arguments Danger Zone**\n",
    "\n",
    "Never use mutable types, like `list` as a default argument. If you need to use a mutable type, like a list as a default, use a marker instead. We’ll cover this technique when we talk about lists in the next chapter.\n",
    "\n",
    "In Python, default arguments are evaluated only once – when the unction is defined. Not each time the function is called. That means if you use a value that can be changed, it won’t behave like you’d expect it to."
   ]
  },
  {
   "cell_type": "markdown",
   "metadata": {},
   "source": [
    "## Advanced Container Types"
   ]
  },
  {
   "cell_type": "markdown",
   "metadata": {},
   "source": [
    "`list`\n",
    "\n",
    "|type|`list`|\n",
    "|---|---|\n",
    "|use|Used for storing similar items, and in cases where items need to be added or removed.|\n",
    "|creation|`[]` or `list()` for empty list, or `[1, 2, 3]` for a list with items|\n",
    "|search methods|`my_list.index(item)` or `item in my_list`|\n",
    "|search speed|O(n)|\n",
    "|common methods|`len(my_list)`, `append(item)` to add, `insert(index, item)` to insert in the middle, `pop()` to remove|\n",
    "|order preserved?|Yes. Items can be accessed by index|\n",
    "|mutable?|Yes|\n",
    "|in-place sortable?|Yes. `my_list.sort()` will sort the list in-place. `my_list.sort(reverse=True)` will sort the list in-place in descending order. `my_list.reverse()` will reverse the items in `my_list` in-place.|\n",
    "\n",
    "|action|method|returns|possible errors|\n",
    "|---|---|---|---|\n",
    "|check length|`len(my_list)`|`int`||\t\n",
    "|add: to the end|`my_list.append(item)`|-||\t\n",
    "|insert: at position|`my_list.insert(pos, item)`|-||\t\n",
    "|update: at position|`my_list[pos] = item`|-|`IndexError` if `pos` is >= `len(my_list)`|\n",
    "|extend: add items from another list|`my_list.extend(other_list)`|-||\t\n",
    "|is item in list?|`item in my_list`|`True` or `False`||\t\n",
    "|index of item|`my_list.index(item)`|`int`|`ValueError` if `item` is not in `my_list`|\n",
    "|count of item|`my_list.count(item)`|`int`||\t\n",
    "|remove an item|`my_list.remove(item)`|-|`ValueError` if `item` not in `my_list`|\n",
    "|remove the last item, or an item at an index|`my_list.pop()` or `my_list.pop(pos)`|`item`|`IndexError` if `pos` >= `len(my_list)`|"
   ]
  },
  {
   "cell_type": "code",
   "execution_count": 49,
   "metadata": {},
   "outputs": [
    {
     "data": {
      "text/plain": [
       "['__add__',\n",
       " '__class__',\n",
       " '__contains__',\n",
       " '__delattr__',\n",
       " '__delitem__',\n",
       " '__dir__',\n",
       " '__doc__',\n",
       " '__eq__',\n",
       " '__format__',\n",
       " '__ge__',\n",
       " '__getattribute__',\n",
       " '__getitem__',\n",
       " '__gt__',\n",
       " '__hash__',\n",
       " '__iadd__',\n",
       " '__imul__',\n",
       " '__init__',\n",
       " '__init_subclass__',\n",
       " '__iter__',\n",
       " '__le__',\n",
       " '__len__',\n",
       " '__lt__',\n",
       " '__mul__',\n",
       " '__ne__',\n",
       " '__new__',\n",
       " '__reduce__',\n",
       " '__reduce_ex__',\n",
       " '__repr__',\n",
       " '__reversed__',\n",
       " '__rmul__',\n",
       " '__setattr__',\n",
       " '__setitem__',\n",
       " '__sizeof__',\n",
       " '__str__',\n",
       " '__subclasshook__',\n",
       " 'append',\n",
       " 'clear',\n",
       " 'copy',\n",
       " 'count',\n",
       " 'extend',\n",
       " 'index',\n",
       " 'insert',\n",
       " 'pop',\n",
       " 'remove',\n",
       " 'reverse',\n",
       " 'sort']"
      ]
     },
     "execution_count": 49,
     "metadata": {},
     "output_type": "execute_result"
    }
   ],
   "source": [
    "dir(list) # ignore the methods that start with underscores"
   ]
  },
  {
   "cell_type": "markdown",
   "metadata": {},
   "source": [
    "`tuple`\n",
    "\n",
    "Tuples are light-weight collections used to keep track of related, but different items. Tuples are immutable, meaning that once a tuple has been created, the items in it can’t change.\n",
    "\n",
    "You might ask, why tuples when Python already has lists? Tuples are different in a few ways. While lists are generally used to store collections of similar items together, tuples, by contrast, can be used considered to contain a snapshot of data. They can’t be continually changed, added or removed from like you could with a list.\n",
    "\n",
    "\n",
    "|type|`tuple`|\n",
    "|---|---|\n",
    "|use|Used for storing a snapshot of related items when we don’t plan on modifying, adding, or removing data.|\n",
    "|creation|`()` or `tuple()` for empty tuple. `(1, )` for one item, or `(1, 2, 3)` for a tuple with items.|\n",
    "|search methods|`my_tuple.index(item)` or `item in my_tuple`|\n",
    "|search speed|O(n)|\n",
    "|common methods|Can’t add or remove from tuples.|\n",
    "|order preserved?|Yes. Items can be accessed by index.|\n",
    "|mutable?|No|\n",
    "|in-place sortable?|No|"
   ]
  },
  {
   "cell_type": "code",
   "execution_count": 50,
   "metadata": {},
   "outputs": [],
   "source": [
    "student = (\"Marcy\", 8, \"History\", 3.5)\n",
    "name, age, subject, grade = student"
   ]
  },
  {
   "cell_type": "code",
   "execution_count": 51,
   "metadata": {},
   "outputs": [
    {
     "data": {
      "text/plain": [
       "'Marcy'"
      ]
     },
     "execution_count": 51,
     "metadata": {},
     "output_type": "execute_result"
    }
   ],
   "source": [
    "name"
   ]
  },
  {
   "cell_type": "code",
   "execution_count": 52,
   "metadata": {},
   "outputs": [
    {
     "data": {
      "text/plain": [
       "8"
      ]
     },
     "execution_count": 52,
     "metadata": {},
     "output_type": "execute_result"
    }
   ],
   "source": [
    "age"
   ]
  },
  {
   "cell_type": "code",
   "execution_count": 53,
   "metadata": {},
   "outputs": [
    {
     "data": {
      "text/plain": [
       "'History'"
      ]
     },
     "execution_count": 53,
     "metadata": {},
     "output_type": "execute_result"
    }
   ],
   "source": [
    "subject"
   ]
  },
  {
   "cell_type": "code",
   "execution_count": 54,
   "metadata": {},
   "outputs": [
    {
     "data": {
      "text/plain": [
       "3.5"
      ]
     },
     "execution_count": 54,
     "metadata": {},
     "output_type": "execute_result"
    }
   ],
   "source": [
    "grade"
   ]
  },
  {
   "cell_type": "code",
   "execution_count": 55,
   "metadata": {},
   "outputs": [],
   "source": [
    "def http_status_code():\n",
    "  return 200, \"OK\" # return tuple from function\n",
    "\n",
    "code, value = http_status_code()"
   ]
  },
  {
   "cell_type": "code",
   "execution_count": 56,
   "metadata": {},
   "outputs": [
    {
     "data": {
      "text/plain": [
       "200"
      ]
     },
     "execution_count": 56,
     "metadata": {},
     "output_type": "execute_result"
    }
   ],
   "source": [
    "code"
   ]
  },
  {
   "cell_type": "code",
   "execution_count": 57,
   "metadata": {},
   "outputs": [
    {
     "data": {
      "text/plain": [
       "'OK'"
      ]
     },
     "execution_count": 57,
     "metadata": {},
     "output_type": "execute_result"
    }
   ],
   "source": [
    "value"
   ]
  },
  {
   "cell_type": "code",
   "execution_count": 58,
   "metadata": {},
   "outputs": [
    {
     "data": {
      "text/plain": [
       "['__add__',\n",
       " '__class__',\n",
       " '__contains__',\n",
       " '__delattr__',\n",
       " '__dir__',\n",
       " '__doc__',\n",
       " '__eq__',\n",
       " '__format__',\n",
       " '__ge__',\n",
       " '__getattribute__',\n",
       " '__getitem__',\n",
       " '__getnewargs__',\n",
       " '__gt__',\n",
       " '__hash__',\n",
       " '__init__',\n",
       " '__init_subclass__',\n",
       " '__iter__',\n",
       " '__le__',\n",
       " '__len__',\n",
       " '__lt__',\n",
       " '__mul__',\n",
       " '__ne__',\n",
       " '__new__',\n",
       " '__reduce__',\n",
       " '__reduce_ex__',\n",
       " '__repr__',\n",
       " '__rmul__',\n",
       " '__setattr__',\n",
       " '__sizeof__',\n",
       " '__str__',\n",
       " '__subclasshook__',\n",
       " 'count',\n",
       " 'index']"
      ]
     },
     "execution_count": 58,
     "metadata": {},
     "output_type": "execute_result"
    }
   ],
   "source": [
    "dir(tuple)"
   ]
  },
  {
   "cell_type": "markdown",
   "metadata": {},
   "source": [
    "`set`\n",
    "\n",
    "Sets are a datatype that allows you to store other immutable types in an unsorted way. An item can only be contained in a set once. There are no duplicates allowed. The benefits of a set are: very fast membership testing along with being able to use powerful set operations, like `union`, `difference`, and `intersection`.\n",
    "\n",
    "\n",
    "|type|`set`|\n",
    "|---|---|\n",
    "|use|Used for storing immutable data types uniquely. Easy to compare the items in sets.|\n",
    "|creation|`set()` for an empty set (`{}` makes an empty dict) and `{1, 2, 3}` for a set with items in it|\n",
    "|search methods|`item in my_set`|\n",
    "|search speed|O(1)|\n",
    "|common methods|`my_set.add(item)`, `my_set.discard(item)` to remove the item if it’s present, `my_set.update(other_set)`|\n",
    "|order preserved?|No. Items can’t be accessed by index.|\n",
    "|mutable?|Yes. Can add to or remove from sets.|\n",
    "|in-place sortable?|No, because items aren’t ordered.|\n",
    "\n",
    "|method operation|symbol operation|result|\n",
    "|---|---|---|\n",
    "|`s.union(t)`|`s \\| t`|creates a new set with all the items from both s and t|\n",
    "|`s.intersection(t)`|`s & t`|creates a new set containing only items that are both in s and in t|\n",
    "|`s.difference(t)`|`s ^ t`|creates a new set with items in s but not in t|\n",
    "\n",
    "Python also has a `frozenset` type, if you need the functionality of a set in an immutable package (meaning that the contents can’t be changed after creation)."
   ]
  },
  {
   "cell_type": "code",
   "execution_count": 59,
   "metadata": {},
   "outputs": [
    {
     "data": {
      "text/plain": [
       "['__and__',\n",
       " '__class__',\n",
       " '__contains__',\n",
       " '__delattr__',\n",
       " '__dir__',\n",
       " '__doc__',\n",
       " '__eq__',\n",
       " '__format__',\n",
       " '__ge__',\n",
       " '__getattribute__',\n",
       " '__gt__',\n",
       " '__hash__',\n",
       " '__iand__',\n",
       " '__init__',\n",
       " '__init_subclass__',\n",
       " '__ior__',\n",
       " '__isub__',\n",
       " '__iter__',\n",
       " '__ixor__',\n",
       " '__le__',\n",
       " '__len__',\n",
       " '__lt__',\n",
       " '__ne__',\n",
       " '__new__',\n",
       " '__or__',\n",
       " '__rand__',\n",
       " '__reduce__',\n",
       " '__reduce_ex__',\n",
       " '__repr__',\n",
       " '__ror__',\n",
       " '__rsub__',\n",
       " '__rxor__',\n",
       " '__setattr__',\n",
       " '__sizeof__',\n",
       " '__str__',\n",
       " '__sub__',\n",
       " '__subclasshook__',\n",
       " '__xor__',\n",
       " 'add',\n",
       " 'clear',\n",
       " 'copy',\n",
       " 'difference',\n",
       " 'difference_update',\n",
       " 'discard',\n",
       " 'intersection',\n",
       " 'intersection_update',\n",
       " 'isdisjoint',\n",
       " 'issubset',\n",
       " 'issuperset',\n",
       " 'pop',\n",
       " 'remove',\n",
       " 'symmetric_difference',\n",
       " 'symmetric_difference_update',\n",
       " 'union',\n",
       " 'update']"
      ]
     },
     "execution_count": 59,
     "metadata": {},
     "output_type": "execute_result"
    }
   ],
   "source": [
    "dir(set)"
   ]
  },
  {
   "cell_type": "markdown",
   "metadata": {},
   "source": [
    "`dict`\n",
    "\n",
    "Dictionaries are a useful type that allow us to store our data in key, value pairs. Dictionaries themselves are mutable, but, dictionary keys can only be immutable types.\n",
    "\n",
    "We use dictionaries when we want to be able to quickly access additional data associated with a particular key. A great practical application for dictionaries is memoization. Let’s say you want to save computing power, and store the result for a function called with particular arguments. The arguments could be the key, with the result stored as the value. Next time someone calls your function, you can check your dictionary to see if the answer is pre-computed.\n",
    "\n",
    "Looking for a key in a large dictionary is extremely fast. Unlike lists, we don’t have to check every item for a match.\n",
    "\n",
    "\n",
    "|type|`dict`|\n",
    "|---|---|\n",
    "|use|Use for storing data in key, value pairs. Keys used must be immutable data types.|\n",
    "|creation|`{}` or `dict()` for an empty dict. `{1: \"one\", 2: \"two\"}` for a dict with items.|\n",
    "|search methods|`key in my_dict`|\n",
    "|search speed|O(1)|\n",
    "|common methods|`my_dict[key]` to get the value by key, and throw a `KeyError` if key is not in the dictionary. Use `my_dict.get(key)` to fail silently if key is not in my_dict. `my_dict.items()` for all key, value pairs, `my_dict.keys()` for all keys, and `my_dict.values()` for all values.|\n",
    "|order preserved?|Sort of. As of Python 3.6 a dict is sorted by insertion order. Items can’t be accessed by index, only by key.|\n",
    "|mutable?|Yes. Can add or remove keys from dicts.|\n",
    "|in-place sortable?|No. dicts don’t have an index, only keys.|"
   ]
  },
  {
   "cell_type": "markdown",
   "metadata": {},
   "source": [
    "## Boolean Logic"
   ]
  },
  {
   "cell_type": "markdown",
   "metadata": {},
   "source": [
    "|type|truthiness|\n",
    "|---|---|\n",
    "|int|`0` is `False`, all other numbers are `True` (including negative)|\n",
    "|containers - `list`, `tuple`, `set`, `dict`|empty container evaluates to `False`, container with items evaluates to `True`)|\n",
    "|`None`|`False`|\t"
   ]
  },
  {
   "cell_type": "markdown",
   "metadata": {},
   "source": [
    "Comparisons\n",
    "\n",
    "Things get interesting when you try to compare strings. Strings are compared lexicographically. That means by the ASCII value of the character. You don’t need to know much about ASCII, besides that capital letters come before lower case ones.\n",
    "\n",
    "Each character in the two strings is checked one by one, until a character is found that is of a different value. That determines the order. Under the hood, this allows Python to sort strings by comparing them to each other."
   ]
  },
  {
   "cell_type": "code",
   "execution_count": 60,
   "metadata": {},
   "outputs": [
    {
     "data": {
      "text/plain": [
       "True"
      ]
     },
     "execution_count": 60,
     "metadata": {},
     "output_type": "execute_result"
    }
   ],
   "source": [
    "\"T\" < \"t\""
   ]
  },
  {
   "cell_type": "code",
   "execution_count": 61,
   "metadata": {},
   "outputs": [
    {
     "data": {
      "text/plain": [
       "True"
      ]
     },
     "execution_count": 61,
     "metadata": {},
     "output_type": "execute_result"
    }
   ],
   "source": [
    "\"a\" < \"b\""
   ]
  },
  {
   "cell_type": "code",
   "execution_count": 62,
   "metadata": {},
   "outputs": [
    {
     "data": {
      "text/plain": [
       "True"
      ]
     },
     "execution_count": 62,
     "metadata": {},
     "output_type": "execute_result"
    }
   ],
   "source": [
    "\"bat\" < \"cat\""
   ]
  },
  {
   "cell_type": "markdown",
   "metadata": {},
   "source": [
    "Equality\n",
    "\n",
    "The equality operators `val1 == val2` (`val1` equals `val2`) and `val1 != val2` (`val1` doesn’t equal `val2`) compare the contents of two different values and return a boolean."
   ]
  },
  {
   "cell_type": "code",
   "execution_count": 63,
   "metadata": {},
   "outputs": [
    {
     "data": {
      "text/plain": [
       "True"
      ]
     },
     "execution_count": 63,
     "metadata": {},
     "output_type": "execute_result"
    }
   ],
   "source": [
    "a = [1, 2, 3]\n",
    "b = [1, 2, 3]\n",
    "a == b"
   ]
  },
  {
   "cell_type": "markdown",
   "metadata": {},
   "source": [
    "Identity\n",
    "\n",
    "The `is` keyword tests if the two compared objects are stored in the same memory location. I won’t go into too much detail into why, but remember not to use `is` when what you actually want to check for is equality."
   ]
  },
  {
   "cell_type": "code",
   "execution_count": 64,
   "metadata": {},
   "outputs": [
    {
     "data": {
      "text/plain": [
       "False"
      ]
     },
     "execution_count": 64,
     "metadata": {},
     "output_type": "execute_result"
    }
   ],
   "source": [
    "a = [1, 2, 3]\n",
    "b = [1, 2, 3]\n",
    "a is b"
   ]
  },
  {
   "cell_type": "markdown",
   "metadata": {},
   "source": [
    "AND, OR, NOT\n",
    "\n",
    "|Operation|Result|\n",
    "|---|---|\n",
    "|`a or b`|if a is False, then b, else a|\n",
    "|`a and b`|if a is False, then a, else b|\n",
    "|`not a`|if a is false, then True, else False|"
   ]
  },
  {
   "cell_type": "markdown",
   "metadata": {},
   "source": [
    "## Loops and Control Statements"
   ]
  },
  {
   "cell_type": "markdown",
   "metadata": {},
   "source": [
    "Looping\n",
    "\n",
    "If you really want to be a pro at looping in a Pythonic way, I recommend watching [Raymond Hettinger’s talk - Transforming Code into Beautiful, Idiomatic Python](https://www.youtube.com/watch?time_continue=1855&v=OSGv2VnC0go) after the course."
   ]
  },
  {
   "cell_type": "code",
   "execution_count": 65,
   "metadata": {},
   "outputs": [
    {
     "name": "stdout",
     "output_type": "stream",
     "text": [
      "The color is Red\n",
      "The color is Green\n",
      "The color is Blue\n",
      "The color is Orange\n"
     ]
    }
   ],
   "source": [
    "colors = ['Red', 'Green', 'Blue', 'Orange']\n",
    "for color in colors:\n",
    "  print(f\"The color is {color}\")"
   ]
  },
  {
   "cell_type": "code",
   "execution_count": 66,
   "metadata": {},
   "outputs": [
    {
     "name": "stdout",
     "output_type": "stream",
     "text": [
      "The number is 0\n",
      "The number is 1\n",
      "The number is 2\n",
      "The number is 3\n",
      "The number is 4\n"
     ]
    }
   ],
   "source": [
    "for num in range(5):\n",
    "  print(f\"The number is {num}\")"
   ]
  },
  {
   "cell_type": "code",
   "execution_count": 68,
   "metadata": {},
   "outputs": [
    {
     "name": "stdout",
     "output_type": "stream",
     "text": [
      "The number is 1\n",
      "The number is 2\n",
      "The number is 3\n",
      "The number is 4\n"
     ]
    }
   ],
   "source": [
    "for num in range(1, 5):\n",
    "  print(f\"The number is {num}\")"
   ]
  },
  {
   "cell_type": "code",
   "execution_count": 69,
   "metadata": {},
   "outputs": [
    {
     "name": "stdout",
     "output_type": "stream",
     "text": [
      "The number is 1\n",
      "The number is 4\n",
      "The number is 7\n"
     ]
    }
   ],
   "source": [
    "for num in range(1, 10, 3):\n",
    "  print(f\"The number is {num}\")"
   ]
  },
  {
   "cell_type": "code",
   "execution_count": 70,
   "metadata": {},
   "outputs": [
    {
     "name": "stdout",
     "output_type": "stream",
     "text": [
      "Item: Red is at index: 0.\n",
      "Item: Green is at index: 1.\n",
      "Item: Blue is at index: 2.\n",
      "Item: Orange is at index: 3.\n"
     ]
    }
   ],
   "source": [
    "for index, item in enumerate(colors):\n",
    "  print(f\"Item: {item} is at index: {index}.\")"
   ]
  },
  {
   "cell_type": "code",
   "execution_count": 71,
   "metadata": {},
   "outputs": [
    {
     "name": "stdout",
     "output_type": "stream",
     "text": [
      "The vlaue of color is actually Red\n",
      "The vlaue of color is actually Green\n",
      "The vlaue of color is actually Blue\n"
     ]
    }
   ],
   "source": [
    "hex_colors = {\n",
    "  \"Red\": \"#FF\",\n",
    "  \"Green\": \"#008\",\n",
    "  \"Blue\": \"#0000FF\",\n",
    "}\n",
    "\n",
    "for color in hex_colors:\n",
    "  print(f\"The vlaue of color is actually {color}\")"
   ]
  },
  {
   "cell_type": "code",
   "execution_count": 72,
   "metadata": {},
   "outputs": [
    {
     "name": "stdout",
     "output_type": "stream",
     "text": [
      "For color Red, the hex value is #FF\n",
      "For color Green, the hex value is #008\n",
      "For color Blue, the hex value is #0000FF\n"
     ]
    }
   ],
   "source": [
    "for color, hex_value in hex_colors.items():\n",
    "  print(f\"For color {color}, the hex value is {hex_value}\")"
   ]
  },
  {
   "cell_type": "markdown",
   "metadata": {},
   "source": [
    "`if`, `else` and `elif`"
   ]
  },
  {
   "cell_type": "code",
   "execution_count": 73,
   "metadata": {},
   "outputs": [
    {
     "name": "stdout",
     "output_type": "stream",
     "text": [
      "Less than 10\n"
     ]
    }
   ],
   "source": [
    "a = 5\n",
    "if a > 10:\n",
    "  print(\"Greater than 10\")\n",
    "elif a < 10:\n",
    "  print(\"Less than 10\")\n",
    "else:\n",
    "  print(\"Dunno\")"
   ]
  },
  {
   "cell_type": "markdown",
   "metadata": {},
   "source": [
    "`while` loops\n",
    "\n",
    "`while` loops are a special type of loop in Python. Instead of running just once when a condition is met, like an `if` statement, they run forever until a condition is no longer met."
   ]
  },
  {
   "cell_type": "code",
   "execution_count": 74,
   "metadata": {},
   "outputs": [
    {
     "name": "stdout",
     "output_type": "stream",
     "text": [
      "The count is: 0\n",
      "The count is: 1\n",
      "The count is: 2\n",
      "The count is: 3\n"
     ]
    }
   ],
   "source": [
    "counter = 0\n",
    "max_value = 4\n",
    "\n",
    "while counter < max_value:\n",
    "  print(f\"The count is: {counter}\")\n",
    "  counter += 1"
   ]
  },
  {
   "cell_type": "markdown",
   "metadata": {},
   "source": [
    "`break`, `continue` and `return`"
   ]
  },
  {
   "cell_type": "code",
   "execution_count": 76,
   "metadata": {},
   "outputs": [
    {
     "name": "stdout",
     "output_type": "stream",
     "text": [
      "Hello, John\n",
      "Hello, Jam\n",
      "Hello, Sam\n",
      "Hello, Nina\n"
     ]
    }
   ],
   "source": [
    "names = [\"John\", \"Jam\", \"Sam\", \"Nina\", \"Mike\"]\n",
    "\n",
    "for name in names:\n",
    "  print(f\"Hello, {name}\")\n",
    "  if name == \"Nina\":\n",
    "    break"
   ]
  },
  {
   "cell_type": "code",
   "execution_count": 77,
   "metadata": {},
   "outputs": [
    {
     "name": "stdout",
     "output_type": "stream",
     "text": [
      "Hello, Nina\n"
     ]
    }
   ],
   "source": [
    "for name in names:\n",
    "  if name != \"Nina\":\n",
    "    continue\n",
    "  print(f\"Hello, {name}\")"
   ]
  },
  {
   "cell_type": "markdown",
   "metadata": {},
   "source": [
    "`break` in the inner loop only breaks out of the inner loop! The outer loop continues to run."
   ]
  },
  {
   "cell_type": "code",
   "execution_count": 78,
   "metadata": {},
   "outputs": [
    {
     "name": "stdout",
     "output_type": "stream",
     "text": [
      "John in outer loop\n",
      "Jam in outer loop\n",
      "Sam in outer loop\n",
      "Nina in outer loop\n",
      "Mike in outer loop\n"
     ]
    }
   ],
   "source": [
    "target_letter = 'n'\n",
    "for name in names:\n",
    "  print(f\"{name} in outer loop\")\n",
    "  for char in names:\n",
    "    if char == target_letter:\n",
    "      print(f\"Found {name} with letter: {target_letter}\")\n",
    "      print(\"breaking out of inner loop\")\n",
    "      break"
   ]
  },
  {
   "cell_type": "code",
   "execution_count": 79,
   "metadata": {},
   "outputs": [
    {
     "name": "stdout",
     "output_type": "stream",
     "text": [
      "Found Max with letter: x\n"
     ]
    }
   ],
   "source": [
    "names = [\"Rose\", \"Max\", \"Nina\"]\n",
    "target_letter = 'x'\n",
    "found = False\n",
    "\n",
    "for name in names:\n",
    "  for char in name:\n",
    "    if char == target_letter:\n",
    "      found = True\n",
    "      break\n",
    "\n",
    "  if found:\n",
    "    print(f\"Found {name} with letter: {target_letter}\")\n",
    "    break"
   ]
  },
  {
   "cell_type": "markdown",
   "metadata": {},
   "source": [
    "## Working With Python Programs"
   ]
  },
  {
   "cell_type": "markdown",
   "metadata": {},
   "source": [
    "How to run them\n",
    "\n",
    "- Python file naming tips\n",
    "  - all lowercase\n",
    "  - words should be separated with underscores\n",
    "  - should be short\n",
    "  \n",
    "- `git` tip: use a `.gitignore` for Python\n",
    "  - [Standard `.gitignore` file](https://github.com/github/gitignore/blob/master/Python.gitignore)"
   ]
  },
  {
   "cell_type": "markdown",
   "metadata": {},
   "source": [
    "Pretty Printing with `pprint`"
   ]
  },
  {
   "cell_type": "code",
   "execution_count": 80,
   "metadata": {},
   "outputs": [
    {
     "name": "stdout",
     "output_type": "stream",
     "text": [
      "[0, 1, 2, 3, 4, 5, 6, 7, 8, 9, 10, 11, 12, 13, 14, 15, 16, 17, 18, 19, 20, 21, 22]\n"
     ]
    }
   ],
   "source": [
    "long_list = list(range(23))\n",
    "\n",
    "print(long_list)"
   ]
  },
  {
   "cell_type": "code",
   "execution_count": 81,
   "metadata": {},
   "outputs": [
    {
     "name": "stdout",
     "output_type": "stream",
     "text": [
      "[0,\n",
      " 1,\n",
      " 2,\n",
      " 3,\n",
      " 4,\n",
      " 5,\n",
      " 6,\n",
      " 7,\n",
      " 8,\n",
      " 9,\n",
      " 10,\n",
      " 11,\n",
      " 12,\n",
      " 13,\n",
      " 14,\n",
      " 15,\n",
      " 16,\n",
      " 17,\n",
      " 18,\n",
      " 19,\n",
      " 20,\n",
      " 21,\n",
      " 22]\n"
     ]
    }
   ],
   "source": [
    "from pprint import pprint\n",
    "\n",
    "pprint(long_list)"
   ]
  },
  {
   "cell_type": "markdown",
   "metadata": {},
   "source": [
    "Main method\n",
    "\n",
    "To avoid running our code when it’s imported by other modules, we put it in a conditional statement, and explicitly check if `__name__ == \"__main__\"`."
   ]
  },
  {
   "cell_type": "markdown",
   "metadata": {},
   "source": [
    "Exceptions and Traceback"
   ]
  },
  {
   "cell_type": "code",
   "execution_count": 82,
   "metadata": {},
   "outputs": [
    {
     "name": "stdout",
     "output_type": "stream",
     "text": [
      "Something went wrong. Message: invalid literal for int() with base 10: 'a'\n",
      "Reached end of the program.\n"
     ]
    }
   ],
   "source": [
    "try:\n",
    "    int(\"a\")\n",
    "except ValueError as error:\n",
    "    print(f\"Something went wrong. Message: {error}\")\n",
    "\n",
    "print(\"Reached end of the program.\")"
   ]
  },
  {
   "cell_type": "markdown",
   "metadata": {},
   "source": [
    "Remember, to understand tracebacks, read them from bottom to top."
   ]
  },
  {
   "cell_type": "markdown",
   "metadata": {},
   "source": [
    "Working with Files\n",
    "\n",
    "Python provides a built-in function for opening files, cleverly titled `open()`. The `open()` method will return an object that you can `read()` to get the data. By default, `open()` will open a file in read-only mode, however you can change this by passing a mode parameter. The list of optional modes is here:\n",
    "\n",
    "|Character|Meaning|\n",
    "|---|---|\n",
    "|‘r’|open for reading (default)|\n",
    "|‘w’|open for writing, truncating the file first|\n",
    "|‘x’|open for exclusive creation, failing if the file already exists|\n",
    "|‘a’|open for writing, appending to the end of the file if it exists|\n",
    "|‘b’|binary mode|\n",
    "|’t’|text mode (default)|\n",
    "|’+’|open a disk file for updating (reading and writing)|"
   ]
  },
  {
   "cell_type": "markdown",
   "metadata": {},
   "source": [
    "Context Managers\n",
    "\n",
    "Context managers can contain code that auto-magically provisions a resource before your code runs, and cleans up afterward. For example, the `open()` function also works as a context manager, so opening a file looks like this:"
   ]
  },
  {
   "cell_type": "code",
   "execution_count": 84,
   "metadata": {},
   "outputs": [
    {
     "name": "stdout",
     "output_type": "stream",
     "text": [
      "[{'name': 'New York', 'pop': 8550405}, {'name': 'Los Angeles', 'pop': 3971883}, {'name': 'Chicago', 'pop': 2720546}, {'name': 'Houston', 'pop': 2296224}, {'name': 'Philadelphia', 'pop': 1567442}]\n"
     ]
    }
   ],
   "source": [
    "import json\n",
    "\n",
    "with open(\"cities.json\") as cities_file:\n",
    "  cities_data = json.load(cities_file)\n",
    "  print(cities_data)"
   ]
  },
  {
   "cell_type": "markdown",
   "metadata": {},
   "source": [
    "Working with Libraries\n",
    "\n",
    "Importing modules with the `import` keyword is usually the best method, because it preserves the module’s namespace. However, you can also use the `from <module> import <object>` syntax to import a specific object (function, variable, subclass, etc.) from a module into your program’s namespace.\n",
    "\n",
    "Install libraries using `pip`"
   ]
  },
  {
   "cell_type": "code",
   "execution_count": 85,
   "metadata": {},
   "outputs": [
    {
     "data": {
      "text/plain": [
       "8"
      ]
     },
     "execution_count": 85,
     "metadata": {},
     "output_type": "execute_result"
    }
   ],
   "source": [
    "import random\n",
    "\n",
    "random.randint(0, 10)"
   ]
  },
  {
   "cell_type": "code",
   "execution_count": 87,
   "metadata": {},
   "outputs": [
    {
     "data": {
      "text/plain": [
       "8"
      ]
     },
     "execution_count": 87,
     "metadata": {},
     "output_type": "execute_result"
    }
   ],
   "source": [
    "from random import randint \n",
    "\n",
    "randint(0, 10)"
   ]
  },
  {
   "cell_type": "markdown",
   "metadata": {},
   "source": []
  },
  {
   "cell_type": "code",
   "execution_count": null,
   "metadata": {},
   "outputs": [],
   "source": []
  }
 ],
 "metadata": {
  "kernelspec": {
   "display_name": "Python 3",
   "language": "python",
   "name": "python3"
  },
  "language_info": {
   "codemirror_mode": {
    "name": "ipython",
    "version": 3
   },
   "file_extension": ".py",
   "mimetype": "text/x-python",
   "name": "python",
   "nbconvert_exporter": "python",
   "pygments_lexer": "ipython3",
   "version": "3.7.5"
  }
 },
 "nbformat": 4,
 "nbformat_minor": 4
}
